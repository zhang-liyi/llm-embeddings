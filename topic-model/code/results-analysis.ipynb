{
 "cells": [
  {
   "cell_type": "code",
   "execution_count": null,
   "metadata": {},
   "outputs": [],
   "source": [
    "import numpy as np\n",
    "import pickle\n",
    "import random\n",
    "import os\n",
    "import json"
   ]
  },
  {
   "cell_type": "code",
   "execution_count": null,
   "metadata": {},
   "outputs": [],
   "source": [
    "import os\n",
    "import json\n",
    "\n",
    "rootdir = '../results/'\n",
    "results = []\n",
    "results_losses = []\n",
    "\n",
    "for subdir, dirs, files in os.walk(rootdir):\n",
    "    for dir in dirs:\n",
    "        path = rootdir + dir\n",
    "        with open(path+'/parameters.json') as json_file:\n",
    "            config = json.load(json_file)\n",
    "            print(config['model_type'], config['learning_rate'], config['weight_decay'], config['token'])\n",
    "\n",
    "            lst = np.genfromtxt(path + '/val_accs_1000.csv')\n",
    "            x1 = np.max(lst)\n",
    "            lst = np.genfromtxt(path + '/val_accs_2000.csv')\n",
    "            x2 = np.max(lst)\n",
    "            lst = np.genfromtxt(path + '/val_accs_3000.csv')\n",
    "            x3 = np.max(lst)\n",
    "            result = (np.mean([x1,x2,x3]), np.std([x1,x2,x3]))\n",
    "            print(\"Acc\", result)\n",
    "\n",
    "            lst = np.genfromtxt(path + '/val_losses_l2_1000.csv')\n",
    "            x1 = np.min(lst)\n",
    "            lst = np.genfromtxt(path + '/val_losses_l2_2000.csv')\n",
    "            x2 = np.min(lst)\n",
    "            lst = np.genfromtxt(path + '/val_losses_l2_3000.csv')\n",
    "            x3 = np.min(lst)\n",
    "            result = (np.mean([x1,x2,x3]), np.std([x1,x2,x3]))\n",
    "            print('L2', result)\n",
    "\n",
    "            lst = np.genfromtxt(path + '/val_losses_tv_1000.csv')\n",
    "            x1 = np.min(lst)\n",
    "            lst = np.genfromtxt(path + '/val_losses_tv_2000.csv')\n",
    "            x2 = np.min(lst)\n",
    "            lst = np.genfromtxt(path + '/val_losses_tv_3000.csv')\n",
    "            x3 = np.min(lst)\n",
    "            result = (np.mean([x1,x2,x3]), np.std([x1,x2,x3]))\n",
    "            print('TV', result)\n",
    "\n",
    "            print('------')\n",
    "\n"
   ]
  }
 ],
 "metadata": {
  "kernelspec": {
   "display_name": "torch-gpu",
   "language": "python",
   "name": "python3"
  },
  "language_info": {
   "codemirror_mode": {
    "name": "ipython",
    "version": 3
   },
   "file_extension": ".py",
   "mimetype": "text/x-python",
   "name": "python",
   "nbconvert_exporter": "python",
   "pygments_lexer": "ipython3",
   "version": "3.8.17"
  },
  "orig_nbformat": 4
 },
 "nbformat": 4,
 "nbformat_minor": 2
}
